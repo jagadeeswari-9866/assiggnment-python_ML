{
 "cells": [
  {
   "cell_type": "markdown",
   "id": "faf68d1d-eecc-4689-bc44-2609d9fab143",
   "metadata": {},
   "source": [
    "1)Write a Python program that performs the following tasks:\n",
    "\n",
    "1. Ask the user to enter a positive integer `n`.\n",
    "2. Use a `for` loop to print all numbers from `1` to `n` on separate lines.\n",
    "3. Use a `while` loop to calculate the sum of all numbers from `1` to `n` and print the result.\n"
   ]
  },
  {
   "cell_type": "code",
   "execution_count": 8,
   "id": "b2777927-a835-49d7-ba78-6c78c525c0ed",
   "metadata": {},
   "outputs": [
    {
     "name": "stdin",
     "output_type": "stream",
     "text": [
      "Enter a positive integer n:  9\n"
     ]
    },
    {
     "name": "stdout",
     "output_type": "stream",
     "text": [
      "Numbers from 1 to n using a for loop:\n",
      "1\n",
      "2\n",
      "3\n",
      "4\n",
      "5\n",
      "6\n",
      "7\n",
      "8\n",
      "9\n",
      "The sum of all numbers from 1 to 9 is: 45\n"
     ]
    }
   ],
   "source": [
    "n = int(input(\"Enter a positive integer n: \"))\n",
    "print(\"Numbers from 1 to n using a for loop:\")\n",
    "for i in range(1, n + 1):\n",
    "    print(i)\n",
    "sum_of_numbers = 0\n",
    "i = 1\n",
    "while i <= n:\n",
    "    b += i\n",
    "    i += 1\n",
    "print(f\"The sum of all numbers from 1 to {n} is: {b}\")\n"
   ]
  },
  {
   "cell_type": "markdown",
   "id": "57ac3ac0-7119-4dba-a8e3-58ee7aa29de6",
   "metadata": {},
   "source": [
    "2)Write a Python program that includes a user-defined function to perform the following tasks:\n",
    "\n",
    "1. Define a function named calculate_square that takes a single argument `n` and returns the square of `n`.\n",
    "2. In the main program, ask the user to input a positive integer.\n",
    "3. Call the calculate_square function with the user-provided number and display the result.\n",
    "\n",
    "\n"
   ]
  },
  {
   "cell_type": "code",
   "execution_count": 10,
   "id": "5f284e11-5164-4e10-b9ce-6bacbc323d99",
   "metadata": {},
   "outputs": [
    {
     "name": "stdin",
     "output_type": "stream",
     "text": [
      "Enter a positive integer:  7\n"
     ]
    },
    {
     "name": "stdout",
     "output_type": "stream",
     "text": [
      "The square of 7 is: 49\n"
     ]
    }
   ],
   "source": [
    "def calculate_square(n):\n",
    "    return n ** 2  \n",
    "n = int(input(\"Enter a positive integer: \"))\n",
    "result = calculate_square(n)\n",
    "print(f\"The square of {n} is: {result}\")\n"
   ]
  },
  {
   "cell_type": "code",
   "execution_count": null,
   "id": "11c9928e-f8fa-4144-abd0-2ef29b1d240c",
   "metadata": {},
   "outputs": [],
   "source": []
  }
 ],
 "metadata": {
  "kernelspec": {
   "display_name": "Python [conda env:base] *",
   "language": "python",
   "name": "conda-base-py"
  },
  "language_info": {
   "codemirror_mode": {
    "name": "ipython",
    "version": 3
   },
   "file_extension": ".py",
   "mimetype": "text/x-python",
   "name": "python",
   "nbconvert_exporter": "python",
   "pygments_lexer": "ipython3",
   "version": "3.12.7"
  }
 },
 "nbformat": 4,
 "nbformat_minor": 5
}
