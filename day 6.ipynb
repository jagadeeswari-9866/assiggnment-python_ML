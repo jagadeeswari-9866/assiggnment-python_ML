{
 "cells": [
  {
   "cell_type": "markdown",
   "id": "451d056e-c5f2-4bd0-9dba-6debaaad3b6d",
   "metadata": {},
   "source": [
    "Using the Pandas library, perform the following tasks:\n",
    "\n",
    "1. Create a DataFrame from the following data:\n",
    "   | Name     | Age | Department   | Salary  |\n",
    "   |----------|-----|--------------|---------|\n",
    "   | John     | 28  | HR           | 45000   |\n",
    "   | Alice    | 34  | IT           | 60000   |\n",
    "   | Bob      | 23  | Marketing    | 35000   |\n",
    "   | Diana    | 29  | Finance      | 50000   |\n"
   ]
  },
  {
   "cell_type": "code",
   "execution_count": 7,
   "id": "3f0e1f5d-fd38-4e96-9377-77cbd1ee09f3",
   "metadata": {},
   "outputs": [
    {
     "name": "stdout",
     "output_type": "stream",
     "text": [
      "     Name  Age Department  Salary\n",
      "0  chitti   18         HR  450000\n",
      "1  rajesh   20         IT  600000\n",
      "2    divi   22  Marketing  350000\n",
      "3   tikku   23    Finance  500000\n"
     ]
    }
   ],
   "source": [
    "import pandas as pd\n",
    "data = {\n",
    "    'Name': ['chitti', 'rajesh','divi','tikku'],\n",
    "    'Age': [18, 20, 22, 23],\n",
    "    'Department': ['HR', 'IT', 'Marketing', 'Finance'],\n",
    "    'Salary': [450000, 600000, 350000, 500000]\n",
    "}\n",
    "df = pd.DataFrame(data)\n",
    "print(df)\n"
   ]
  },
  {
   "cell_type": "markdown",
   "id": "d7d97b48-6b34-4d68-a412-a2e46940bb4e",
   "metadata": {},
   "source": [
    "2. Write code to:\n",
    "   - Display the first 2 rows of the DataFrame.\n",
    "   - Add a new column named `Bonus` where the bonus is 10% of the salary.\n",
    "   - Calculate the average salary of employees in the DataFrame.\n",
    "   - Filter and display employees who are older than 25."
   ]
  },
  {
   "cell_type": "code",
   "execution_count": 9,
   "id": "a340dafe-ff9d-4918-92d8-99a107e6297f",
   "metadata": {},
   "outputs": [
    {
     "name": "stdout",
     "output_type": "stream",
     "text": [
      "First 2 rows of the DataFrame:\n",
      "     Name  Age Department  Salary\n",
      "0  chitti   22         HR   45000\n",
      "1    divi   24         IT   60000\n",
      "\n",
      "DataFrame with Bonus column:\n",
      "     Name  Age Department  Salary   Bonus\n",
      "0  chitti   22         HR   45000  4500.0\n",
      "1    divi   24         IT   60000  6000.0\n",
      "2   krupa   20  Marketing   35000  3500.0\n",
      "3   tikku   19    Finance   50000  5000.0\n",
      "\n",
      "Average Salary of Employees: 47500.0\n",
      "\n",
      "Employees older than 25:\n",
      "Empty DataFrame\n",
      "Columns: [Name, Age, Department, Salary, Bonus]\n",
      "Index: []\n"
     ]
    }
   ],
   "source": [
    "import pandas as pd\n",
    "data = {\n",
    "    'Name': ['chitti', 'divi', 'krupa', 'tikku'],\n",
    "    'Age': [22, 24, 20, 19],\n",
    "    'Department': ['HR', 'IT', 'Marketing', 'Finance'],\n",
    "    'Salary': [45000, 60000, 35000, 50000]\n",
    "}\n",
    "df = pd.DataFrame(data)\n",
    "print(\"First 2 rows of the DataFrame:\")\n",
    "print(df.head(2))\n",
    "df['Bonus'] = df['Salary'] * 0.10\n",
    "print(\"\\nDataFrame with Bonus column:\")\n",
    "print(df)\n",
    "average_salary = df['Salary'].mean()\n",
    "print(f\"\\nAverage Salary of Employees: {average_salary}\")\n",
    "older_than_25 = df[df['Age'] > 25]\n",
    "print(\"\\nEmployees older than 25:\")\n",
    "print(older_than_25)\n"
   ]
  },
  {
   "cell_type": "code",
   "execution_count": null,
   "id": "3a92e87a-7911-4093-b94e-4e1c44a0d72a",
   "metadata": {},
   "outputs": [],
   "source": []
  },
  {
   "cell_type": "code",
   "execution_count": null,
   "id": "ed87cad9-4f35-43d6-b545-4b3fa0c58e86",
   "metadata": {},
   "outputs": [],
   "source": []
  }
 ],
 "metadata": {
  "kernelspec": {
   "display_name": "Python [conda env:base] *",
   "language": "python",
   "name": "conda-base-py"
  },
  "language_info": {
   "codemirror_mode": {
    "name": "ipython",
    "version": 3
   },
   "file_extension": ".py",
   "mimetype": "text/x-python",
   "name": "python",
   "nbconvert_exporter": "python",
   "pygments_lexer": "ipython3",
   "version": "3.12.7"
  }
 },
 "nbformat": 4,
 "nbformat_minor": 5
}
