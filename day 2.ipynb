{
 "cells": [
  {
   "cell_type": "code",
   "execution_count": null,
   "id": "4f19ae10-3730-4d51-a4c7-7fbac3a1a46a",
   "metadata": {},
   "outputs": [],
   "source": []
  },
  {
   "cell_type": "code",
   "execution_count": 27,
   "id": "d3677444-6709-4d00-ab17-ed7bc9ef6360",
   "metadata": {},
   "outputs": [
    {
     "name": "stdout",
     "output_type": "stream",
     "text": [
      "List Element (negative index -1): 50\n",
      "Tuple Element (negative index -2): 400\n",
      "List Element by index value 2): 30\n",
      "Tuple Element by index value 4): 500\n",
      "Dictionary Element (key : age): 18\n",
      "Dictionary Element (key :hobby): Reading\n"
     ]
    }
   ],
   "source": [
    "# Creating a List, Tuple, and Dictionary with 5 elements each\n",
    "my_list = [10, 20, 30, 40, 50]\n",
    "my_tuple = (100, 200, 300, 400, 500)\n",
    "my_dict = {\n",
    "    'name': 'jagadeeswari',\n",
    "    'age': 18,\n",
    "    'city': 'rajahmundry',\n",
    "    'hobby': 'Reading'\n",
    "}\n",
    "# Access elements using  by index value \n",
    "list_element_1 = my_list[2] \n",
    "tuple_element_2 = my_tuple[4] \n",
    "# Access elements using keys for Dictionary\n",
    "dict_element_1 = my_dict['age'] \n",
    "dict_element_2 = my_dict['hobby'] \n",
    "# Accessing negative indices (from the end)\n",
    "list_element_neg = my_list[-1] \n",
    "tuple_element_neg = my_tuple[-2] \n",
    "print(\"List Element (negative index -1):\", list_element_neg)\n",
    "print(\"Tuple Element (negative index -2):\", tuple_element_neg)\n",
    "# Print the accessed elements\n",
    "print(\"List Element by index value 2):\", list_element_1)\n",
    "print(\"Tuple Element by index value 4):\", tuple_element_2)\n",
    "print(\"Dictionary Element (key : age):\", dict_element_1)\n",
    "print(\"Dictionary Element (key :hobby):\", dict_element_2)"
   ]
  },
  {
   "cell_type": "code",
   "execution_count": null,
   "id": "d7174c81-e1eb-452d-8b3b-53af2f657d06",
   "metadata": {},
   "outputs": [],
   "source": []
  }
 ],
 "metadata": {
  "kernelspec": {
   "display_name": "Python [conda env:base] *",
   "language": "python",
   "name": "conda-base-py"
  },
  "language_info": {
   "codemirror_mode": {
    "name": "ipython",
    "version": 3
   },
   "file_extension": ".py",
   "mimetype": "text/x-python",
   "name": "python",
   "nbconvert_exporter": "python",
   "pygments_lexer": "ipython3",
   "version": "3.12.7"
  }
 },
 "nbformat": 4,
 "nbformat_minor": 5
}
