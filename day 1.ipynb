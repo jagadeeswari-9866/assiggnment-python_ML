{
 "cells": [
  {
   "cell_type": "code",
   "execution_count": 5,
   "id": "afca2e90-471c-4816-8add-3ce0374745e8",
   "metadata": {},
   "outputs": [
    {
     "name": "stdout",
     "output_type": "stream",
     "text": [
      "Integer Variable: 42 Type: <class 'int'>\n",
      "Float Variable: 3.14 Type: <class 'float'>\n",
      "String Variable: Hello, World! Type: <class 'str'>\n",
      "Boolean Variable: True Type: <class 'bool'>\n"
     ]
    }
   ],
   "source": [
    "\n",
    "#Write a program in Jupyter Notebook to declare variables of different data types (integer, float, string, and boolean). Print each variable and its type.\n",
    "\n",
    "a = 42\n",
    "b = 3.14\n",
    "c = \"Hello, World!\"\n",
    "d = True\n",
    "print(\"Integer Variable:\", integer_var, \"Type:\", type(a))\n",
    "print(\"Float Variable:\", float_var, \"Type:\", type(b))\n",
    "print(\"String Variable:\", string_var, \"Type:\", type(c))\n",
    "print(\"Boolean Variable:\", boolean_var, \"Type:\", type(d))"
   ]
  },
  {
   "cell_type": "code",
   "execution_count": null,
   "id": "b5d9f94a-bccb-4ae3-932f-f31cc04c33a0",
   "metadata": {},
   "outputs": [],
   "source": []
  }
 ],
 "metadata": {
  "kernelspec": {
   "display_name": "Python [conda env:base] *",
   "language": "python",
   "name": "conda-base-py"
  },
  "language_info": {
   "codemirror_mode": {
    "name": "ipython",
    "version": 3
   },
   "file_extension": ".py",
   "mimetype": "text/x-python",
   "name": "python",
   "nbconvert_exporter": "python",
   "pygments_lexer": "ipython3",
   "version": "3.12.7"
  }
 },
 "nbformat": 4,
 "nbformat_minor": 5
}
