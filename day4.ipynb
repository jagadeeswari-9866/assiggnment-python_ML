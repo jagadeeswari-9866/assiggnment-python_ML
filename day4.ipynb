{
 "cells": [
  {
   "cell_type": "markdown",
   "id": "bbecf5d2-b67e-4490-9771-1e95e97d2373",
   "metadata": {},
   "source": [
    "Write a Python program to calculate the sum of all even numbers between 1 and a given positive integer n\n"
   ]
  },
  {
   "cell_type": "code",
   "execution_count": 11,
   "id": "f32d4cf8-08fd-42ca-ba91-3d895d2fa5f9",
   "metadata": {},
   "outputs": [
    {
     "name": "stdin",
     "output_type": "stream",
     "text": [
      "Enter a positive integer n:  9\n"
     ]
    },
    {
     "name": "stdout",
     "output_type": "stream",
     "text": [
      "The sum of all even numbers between 1 and 9 is: 20\n"
     ]
    }
   ],
   "source": [
    "n = int(input(\"Enter a positive integer n: \"))\n",
    "b = 0\n",
    "for i in range(1, n + 1):\n",
    "    if i % 2 == 0: \n",
    "        b += i  \n",
    "print(f\"The sum of all even numbers between 1 and {n} is: {b}\")\n"
   ]
  },
  {
   "cell_type": "code",
   "execution_count": null,
   "id": "66e4f2e8-edf8-4cf4-8df9-3c4ad94fa882",
   "metadata": {},
   "outputs": [],
   "source": []
  },
  {
   "cell_type": "code",
   "execution_count": null,
   "id": "d5ad1d8a-a8b8-469b-9d18-1839d7acd41a",
   "metadata": {},
   "outputs": [],
   "source": []
  }
 ],
 "metadata": {
  "kernelspec": {
   "display_name": "Python [conda env:base] *",
   "language": "python",
   "name": "conda-base-py"
  },
  "language_info": {
   "codemirror_mode": {
    "name": "ipython",
    "version": 3
   },
   "file_extension": ".py",
   "mimetype": "text/x-python",
   "name": "python",
   "nbconvert_exporter": "python",
   "pygments_lexer": "ipython3",
   "version": "3.12.7"
  }
 },
 "nbformat": 4,
 "nbformat_minor": 5
}
