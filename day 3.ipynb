{
 "cells": [
  {
   "cell_type": "markdown",
   "id": "881d3d56-247a-4997-b3ea-8dd6aaf9dcff",
   "metadata": {},
   "source": [
    "Write a Python program that takes a student's marks in three subjects as input.\n",
    "If the average is greater than or equal to 90, print \"Grade: A\".\n",
    "If the average is between 80 and 89, print \"Grade: B\".\n",
    "If the average is between 70 and 79, print \"Grade: C\".\n",
    "Otherwise, print \"Grade: Fail\"."
   ]
  },
  {
   "cell_type": "code",
   "execution_count": 1,
   "id": "597effaa-2dc5-4997-bc34-a0d9f34e4ca3",
   "metadata": {},
   "outputs": [
    {
     "name": "stdin",
     "output_type": "stream",
     "text": [
      "Enter marks for subject 1:  23.9\n",
      "Enter marks for subject 2:  66\n",
      "Enter marks for subject 3:  88\n"
     ]
    },
    {
     "name": "stdout",
     "output_type": "stream",
     "text": [
      "Grade: Fail\n"
     ]
    }
   ],
   "source": [
    "# Take input for marks in three subjects\n",
    "english = float(input(\"Enter marks for subject 1: \"))\n",
    "maths = float(input(\"Enter marks for subject 2: \"))\n",
    "science = float(input(\"Enter marks for subject 3: \"))\n",
    "average = (marks1 + marks2 + marks3) / 3\n",
    "if average >= 90:\n",
    "    print(\"Grade: A\")\n",
    "elif 80 <= average < 90:\n",
    "    print(\"Grade: B\")\n",
    "elif 70 <= average < 80:\n",
    "    print(\"Grade: C\")\n",
    "else:\n",
    "    print(\"Grade: Fail\")\n"
   ]
  },
  {
   "cell_type": "code",
   "execution_count": null,
   "id": "b8a30df9-5c15-49d7-97f6-0b3be64c2487",
   "metadata": {},
   "outputs": [],
   "source": []
  }
 ],
 "metadata": {
  "kernelspec": {
   "display_name": "Python [conda env:base] *",
   "language": "python",
   "name": "conda-base-py"
  },
  "language_info": {
   "codemirror_mode": {
    "name": "ipython",
    "version": 3
   },
   "file_extension": ".py",
   "mimetype": "text/x-python",
   "name": "python",
   "nbconvert_exporter": "python",
   "pygments_lexer": "ipython3",
   "version": "3.12.7"
  }
 },
 "nbformat": 4,
 "nbformat_minor": 5
}
